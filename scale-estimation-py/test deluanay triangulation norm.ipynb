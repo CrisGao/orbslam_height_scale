{
 "cells": [
  {
   "cell_type": "code",
   "execution_count": 1,
   "metadata": {},
   "outputs": [],
   "source": [
    "import matplotlib as plt\n",
    "import numpy as np\n",
    "import math\n",
    "\n",
    "np.set_printoptions(suppress=True)"
   ]
  },
  {
   "cell_type": "code",
   "execution_count": 2,
   "metadata": {},
   "outputs": [],
   "source": [
    "A1 = np.array([\n",
    "    [5, 10, 2],\n",
    "    [9, 10, 4.5],\n",
    "    [0, 10, 7]\n",
    "])\n",
    "\n",
    "A2 = np.array([\n",
    "    [11, 10, 0],\n",
    "    [2., 10, 0.],\n",
    "    [0, 10.2, 3.]\n",
    "])\n",
    "\n",
    "A3 = np.array([\n",
    "    [4., 9.9, 1],\n",
    "    [5., 9.9, 2.],\n",
    "    [0, 10.1, 3.]\n",
    "])\n",
    "\n",
    "#rotation across x axis\n",
    "angle = 3. * math.pi /180.\n",
    "\n",
    "\n",
    "T_actual_road = np.array([\n",
    "    [1, 0., 0.],\n",
    "    [0., math.cos(angle), -math.sin(angle)],\n",
    "    [0., math.sin(angle), math.cos(angle)]\n",
    "])\n",
    "\n",
    "A1 = T_actual_road.dot(A1.transpose()).transpose()\n",
    "A2 = T_actual_road.dot(A2.transpose()).transpose()\n",
    "A3 = T_actual_road.dot(A3.transpose()).transpose()\n",
    "\n",
    "b = np.array([[1.], [1.], [1.]])"
   ]
  },
  {
   "cell_type": "code",
   "execution_count": 3,
   "metadata": {},
   "outputs": [],
   "source": [
    "n1 = np.linalg.inv(A1).dot(b)\n",
    "n2 = np.linalg.inv(A2).dot(b)\n",
    "n3 = np.linalg.inv(A3).dot(b)"
   ]
  },
  {
   "cell_type": "code",
   "execution_count": 9,
   "metadata": {},
   "outputs": [
    {
     "name": "stdout",
     "output_type": "stream",
     "text": [
      "n: \n",
      "[[0.        ]\n",
      " [0.09986295]\n",
      " [0.0052336 ]]\n",
      "height : 10.000000000000002\n",
      "angle: -87.00000000000009 between range? True \n",
      "\n",
      "\n",
      "n: \n",
      "[[ 0.        ]\n",
      " [ 0.10021186]\n",
      " [-0.00142393]]\n",
      "height : 9.97785157856609\n",
      "angle: -89.18592516570965 between range? True \n",
      "\n",
      "\n",
      "n: \n",
      "[[0.00333333]\n",
      " [0.10003741]\n",
      " [0.00190483]]\n",
      "height : 9.988907373180403\n",
      "angle: -87.80219902764895 between range? True \n",
      "\n",
      "\n"
     ]
    }
   ],
   "source": [
    "def display(v):\n",
    "    l1 = 1./np.linalg.norm(v)\n",
    "    print(\"n: \")\n",
    "    print(v)\n",
    "    print(\"height : {}\".format(l1))\n",
    "\n",
    "    angle = math.asin(-v[1, 0] / np.linalg.norm(v)) * 180/math.pi\n",
    "    print(\"angle: {} between range? {} \\n\\n\".format(angle, angle > -93 and angle < -87))\n",
    "    print\n",
    "    \n",
    "    \n",
    "    \n",
    "display(n1)\n",
    "display(n2)\n",
    "display(n3)"
   ]
  },
  {
   "cell_type": "code",
   "execution_count": 10,
   "metadata": {},
   "outputs": [
    {
     "name": "stdout",
     "output_type": "stream",
     "text": [
      "n: \n",
      "[[0.        ]\n",
      " [0.09993908]\n",
      " [0.00348995]]\n",
      "height : 10.000000000000002\n",
      "angle: -88.00000000000006 between range? True \n",
      "\n",
      "\n",
      "n: \n",
      "[[0.        ]\n",
      " [0.09975641]\n",
      " [0.00697565]]\n",
      "height : 10.0\n",
      "angle: -85.99999999999996 between range? False \n",
      "\n",
      "\n"
     ]
    }
   ],
   "source": [
    "angle = -1 * math.pi/180.\n",
    "Rfalse1 = np.array([\n",
    "    [1, 0., 0.],\n",
    "    [0., math.cos(angle), -math.sin(angle)],\n",
    "    [0., math.sin(angle), math.cos(angle)]\n",
    "])\n",
    "\n",
    "false1 = np.array([\n",
    "    [0.],\n",
    "    [1.],\n",
    "    [0.]\n",
    "])\n",
    "false1 = Rfalse1.dot(n1) \n",
    "display(false1)\n",
    "\n",
    "angle = 1 * math.pi/180.\n",
    "Rtrue1 = np.array([\n",
    "    [1, 0., 0.],\n",
    "    [0., math.cos(angle), -math.sin(angle)],\n",
    "    [0., math.sin(angle), math.cos(angle)]\n",
    "])\n",
    "true1 = Rtrue1.dot(n1)\n",
    "display(true1)"
   ]
  },
  {
   "cell_type": "code",
   "execution_count": null,
   "metadata": {},
   "outputs": [],
   "source": []
  }
 ],
 "metadata": {
  "kernelspec": {
   "display_name": "Python 3",
   "language": "python",
   "name": "python3"
  },
  "language_info": {
   "codemirror_mode": {
    "name": "ipython",
    "version": 3
   },
   "file_extension": ".py",
   "mimetype": "text/x-python",
   "name": "python",
   "nbconvert_exporter": "python",
   "pygments_lexer": "ipython3",
   "version": "3.7.4"
  }
 },
 "nbformat": 4,
 "nbformat_minor": 4
}
