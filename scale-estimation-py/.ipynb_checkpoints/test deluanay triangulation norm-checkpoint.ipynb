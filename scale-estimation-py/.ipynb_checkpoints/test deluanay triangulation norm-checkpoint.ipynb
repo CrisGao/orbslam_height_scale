{
 "cells": [
  {
   "cell_type": "code",
   "execution_count": 38,
   "metadata": {},
   "outputs": [],
   "source": [
    "import matplotlib as plt\n",
    "import numpy as np\n",
    "import math\n",
    "\n",
    "np.set_printoptions(suppress=True)"
   ]
  },
  {
   "cell_type": "code",
   "execution_count": 57,
   "metadata": {},
   "outputs": [],
   "source": [
    "A1 = np.array([\n",
    "    [5, 10, 2],\n",
    "    [9, 10, 4.5],\n",
    "    [0, 10, 7]\n",
    "])\n",
    "\n",
    "A2 = np.array([\n",
    "    [11, 10, 0],\n",
    "    [2., 10, 0.],\n",
    "    [0, 10.2, 3.]\n",
    "])\n",
    "\n",
    "A2 = np.array([\n",
    "    [4., 9.9, 1],\n",
    "    [5., 9.9, 2.],\n",
    "    [0, 10.1, 3.]\n",
    "])\n",
    "\n",
    "#rotation across x axis\n",
    "angle = 3. * math.pi /180.\n",
    "\n",
    "\n",
    "T_actual_road = np.array([\n",
    "    [1, 0., 0.],\n",
    "    [0., math.cos(angle), -math.sin(angle)],\n",
    "    [0., math.sin(angle), math.cos(angle)]\n",
    "])\n",
    "\n",
    "A1 = T_actual_road.dot(A1.transpose()).transpose()\n",
    "A2 = T_actual_road.dot(A2.transpose()).transpose()\n",
    "A3 = T_actual_road.dot(A3.transpose()).transpose()\n",
    "\n",
    "b = np.array([[1.], [1.], [1.]])"
   ]
  },
  {
   "cell_type": "code",
   "execution_count": 58,
   "metadata": {},
   "outputs": [],
   "source": [
    "n1 = np.linalg.inv(A1).dot(b)\n",
    "n2 = np.linalg.inv(A2).dot(b)\n",
    "n3 = np.linalg.inv(A3).dot(b)"
   ]
  },
  {
   "cell_type": "code",
   "execution_count": 59,
   "metadata": {},
   "outputs": [
    {
     "name": "stdout",
     "output_type": "stream",
     "text": [
      "n1: [[2.77555756e-17]\n",
      " [9.98629535e-02]\n",
      " [5.23359562e-03]]\n",
      "height 1: 10.000000000000002\n",
      "angle: -1.5184364492350682\n"
     ]
    }
   ],
   "source": [
    "def display(v):\n",
    "    l1 = 1./np.linalg.norm(v)\n",
    "    print(\"n: \".format(v))\n",
    "    print(\"height : {}\".format(l1))\n",
    "\n",
    "    angle = math.asin(-v[1, 0] / np.linalg.norm(v))\n",
    "    print(\"angle: {}\".format(angle))\n",
    "    print \n",
    "    \n",
    "    \n",
    "l1 = 1./np.linalg.norm(n1)\n",
    "print(\"n1: {}\".format(n1))\n",
    "print(\"height 1: {}\".format(l1))\n",
    "\n",
    "angle = math.asin(-n1[1, 0] / np.linalg.norm(n1))\n",
    "print(\"angle: {}\".format(angle))\n",
    "\n",
    "l1 = 1./np.linalg.norm(n1)\n",
    "print(\"n1: {}\".format(n1))\n",
    "print(\"height 1: {}\".format(l1))\n",
    "\n",
    "angle = math.asin(-n1[1, 0] / np.linalg.norm(n1))\n",
    "print(\"angle: {}\".format(angle))"
   ]
  },
  {
   "cell_type": "code",
   "execution_count": null,
   "metadata": {},
   "outputs": [],
   "source": []
  }
 ],
 "metadata": {
  "kernelspec": {
   "display_name": "Python 3",
   "language": "python",
   "name": "python3"
  },
  "language_info": {
   "codemirror_mode": {
    "name": "ipython",
    "version": 3
   },
   "file_extension": ".py",
   "mimetype": "text/x-python",
   "name": "python",
   "nbconvert_exporter": "python",
   "pygments_lexer": "ipython3",
   "version": "3.7.4"
  }
 },
 "nbformat": 4,
 "nbformat_minor": 4
}
